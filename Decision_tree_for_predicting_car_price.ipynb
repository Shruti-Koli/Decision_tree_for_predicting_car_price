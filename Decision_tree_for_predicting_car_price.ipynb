{
 "cells": [
  {
   "cell_type": "markdown",
   "metadata": {},
   "source": [
    "# Decision Tree\n",
    "Predicting price of the cars"
   ]
  },
  {
   "cell_type": "markdown",
   "metadata": {},
   "source": [
    "# Reading the dataset"
   ]
  },
  {
   "cell_type": "code",
   "execution_count": 1,
   "metadata": {},
   "outputs": [],
   "source": [
    "from warnings import filterwarnings\n",
    "filterwarnings(\"ignore\")\n",
    "\n",
    "import pandas as pd\n",
    "A = pd.read_csv(\"C:/Users/Shruti/Downloads/Cars93.csv\")"
   ]
  },
  {
   "cell_type": "code",
   "execution_count": 2,
   "metadata": {},
   "outputs": [],
   "source": [
    "A.columns=['id', 'Manufacturer', 'Model', 'Type', 'MinPrice', 'Price',\n",
    "       'MaxPrice', 'MPGcity', 'MPGhighway', 'AirBags', 'DriveTrain',\n",
    "       'Cylinders', 'EngineSize', 'Horsepower', 'RPM', 'Revpermile',\n",
    "       'Mantransavail', 'Fueltankcapacity', 'Passengers', 'Length',\n",
    "       'Wheelbase', 'Width', 'Turncircle', 'Rearseatroom', 'Luggageroom',\n",
    "       'Weight', 'Origin', 'Make']"
   ]
  },
  {
   "cell_type": "markdown",
   "metadata": {},
   "source": [
    "# Missing Data Treatment"
   ]
  },
  {
   "cell_type": "code",
   "execution_count": 3,
   "metadata": {},
   "outputs": [],
   "source": [
    "from myFuctions import replacer\n",
    "replacer(A)"
   ]
  },
  {
   "cell_type": "markdown",
   "metadata": {},
   "source": [
    "# Dropping Unwanted Columns"
   ]
  },
  {
   "cell_type": "code",
   "execution_count": 4,
   "metadata": {},
   "outputs": [],
   "source": [
    "A = A.drop(labels=[\"id\",\"Make\",\"Model\"],axis=1)"
   ]
  },
  {
   "cell_type": "markdown",
   "metadata": {},
   "source": [
    "# Defining X and Y"
   ]
  },
  {
   "cell_type": "code",
   "execution_count": 5,
   "metadata": {},
   "outputs": [],
   "source": [
    "X = A.drop(labels=[\"Price\",\"MinPrice\",\"MaxPrice\"],axis=1)\n",
    "Y = A[[\"Price\"]]"
   ]
  },
  {
   "cell_type": "markdown",
   "metadata": {},
   "source": [
    "# Feature selection"
   ]
  },
  {
   "cell_type": "code",
   "execution_count": 6,
   "metadata": {},
   "outputs": [],
   "source": [
    "def ANOVA(df,cat,con):\n",
    "    from pandas import DataFrame\n",
    "    from statsmodels.api import OLS\n",
    "    from statsmodels.formula.api import ols\n",
    "    rel = con + \" ~ \" + cat\n",
    "    model = ols(rel,df).fit()\n",
    "    from statsmodels.stats.anova import anova_lm\n",
    "    anova_results = anova_lm(model)\n",
    "    Q = DataFrame(anova_results)\n",
    "    a = Q['PR(>F)'][cat]\n",
    "    return round(a,3)"
   ]
  },
  {
   "cell_type": "code",
   "execution_count": 7,
   "metadata": {},
   "outputs": [
    {
     "data": {
      "text/html": [
       "<div>\n",
       "<style scoped>\n",
       "    .dataframe tbody tr th:only-of-type {\n",
       "        vertical-align: middle;\n",
       "    }\n",
       "\n",
       "    .dataframe tbody tr th {\n",
       "        vertical-align: top;\n",
       "    }\n",
       "\n",
       "    .dataframe thead th {\n",
       "        text-align: right;\n",
       "    }\n",
       "</style>\n",
       "<table border=\"1\" class=\"dataframe\">\n",
       "  <thead>\n",
       "    <tr style=\"text-align: right;\">\n",
       "      <th></th>\n",
       "      <th>Price</th>\n",
       "    </tr>\n",
       "  </thead>\n",
       "  <tbody>\n",
       "    <tr>\n",
       "      <th>MPGcity</th>\n",
       "      <td>-0.594562</td>\n",
       "    </tr>\n",
       "    <tr>\n",
       "      <th>MPGhighway</th>\n",
       "      <td>-0.560680</td>\n",
       "    </tr>\n",
       "    <tr>\n",
       "      <th>Revpermile</th>\n",
       "      <td>-0.426395</td>\n",
       "    </tr>\n",
       "    <tr>\n",
       "      <th>RPM</th>\n",
       "      <td>-0.004955</td>\n",
       "    </tr>\n",
       "    <tr>\n",
       "      <th>Passengers</th>\n",
       "      <td>0.057860</td>\n",
       "    </tr>\n",
       "    <tr>\n",
       "      <th>Rearseatroom</th>\n",
       "      <td>0.301888</td>\n",
       "    </tr>\n",
       "    <tr>\n",
       "      <th>Luggageroom</th>\n",
       "      <td>0.354635</td>\n",
       "    </tr>\n",
       "    <tr>\n",
       "      <th>Turncircle</th>\n",
       "      <td>0.392590</td>\n",
       "    </tr>\n",
       "    <tr>\n",
       "      <th>Width</th>\n",
       "      <td>0.456028</td>\n",
       "    </tr>\n",
       "    <tr>\n",
       "      <th>Wheelbase</th>\n",
       "      <td>0.500864</td>\n",
       "    </tr>\n",
       "    <tr>\n",
       "      <th>Length</th>\n",
       "      <td>0.503628</td>\n",
       "    </tr>\n",
       "    <tr>\n",
       "      <th>EngineSize</th>\n",
       "      <td>0.597425</td>\n",
       "    </tr>\n",
       "    <tr>\n",
       "      <th>Fueltankcapacity</th>\n",
       "      <td>0.619480</td>\n",
       "    </tr>\n",
       "    <tr>\n",
       "      <th>Weight</th>\n",
       "      <td>0.647179</td>\n",
       "    </tr>\n",
       "    <tr>\n",
       "      <th>Horsepower</th>\n",
       "      <td>0.788218</td>\n",
       "    </tr>\n",
       "    <tr>\n",
       "      <th>MinPrice</th>\n",
       "      <td>0.970601</td>\n",
       "    </tr>\n",
       "    <tr>\n",
       "      <th>MaxPrice</th>\n",
       "      <td>0.981580</td>\n",
       "    </tr>\n",
       "    <tr>\n",
       "      <th>Price</th>\n",
       "      <td>1.000000</td>\n",
       "    </tr>\n",
       "  </tbody>\n",
       "</table>\n",
       "</div>"
      ],
      "text/plain": [
       "                     Price\n",
       "MPGcity          -0.594562\n",
       "MPGhighway       -0.560680\n",
       "Revpermile       -0.426395\n",
       "RPM              -0.004955\n",
       "Passengers        0.057860\n",
       "Rearseatroom      0.301888\n",
       "Luggageroom       0.354635\n",
       "Turncircle        0.392590\n",
       "Width             0.456028\n",
       "Wheelbase         0.500864\n",
       "Length            0.503628\n",
       "EngineSize        0.597425\n",
       "Fueltankcapacity  0.619480\n",
       "Weight            0.647179\n",
       "Horsepower        0.788218\n",
       "MinPrice          0.970601\n",
       "MaxPrice          0.981580\n",
       "Price             1.000000"
      ]
     },
     "execution_count": 7,
     "metadata": {},
     "output_type": "execute_result"
    }
   ],
   "source": [
    "A.corr()[[\"Price\"]].sort_values(by=\"Price\")"
   ]
  },
  {
   "cell_type": "code",
   "execution_count": 8,
   "metadata": {},
   "outputs": [],
   "source": [
    "imp_cols = []\n",
    "for i in X.columns:\n",
    "    if(X[i].dtypes==\"object\"):\n",
    "        x = ANOVA(A,i,\"Price\")\n",
    "        if(x < 0.05):\n",
    "            imp_cols.append(i)"
   ]
  },
  {
   "cell_type": "code",
   "execution_count": 9,
   "metadata": {},
   "outputs": [],
   "source": [
    "imp_cols.append(\"Horsepower\")"
   ]
  },
  {
   "cell_type": "markdown",
   "metadata": {},
   "source": [
    "# Preprocessing"
   ]
  },
  {
   "cell_type": "code",
   "execution_count": 10,
   "metadata": {},
   "outputs": [],
   "source": [
    "from myFuctions import preprocessing\n",
    "Xnew = preprocessing(X)"
   ]
  },
  {
   "cell_type": "markdown",
   "metadata": {},
   "source": [
    "# Split the Data in training and testing set"
   ]
  },
  {
   "cell_type": "code",
   "execution_count": 11,
   "metadata": {},
   "outputs": [],
   "source": [
    "from sklearn.model_selection import train_test_split\n",
    "xtrain,xtest,ytrain,ytest=train_test_split(Xnew,Y,test_size=0.2,random_state=21)"
   ]
  },
  {
   "cell_type": "markdown",
   "metadata": {},
   "source": [
    "# Create Tree based model"
   ]
  },
  {
   "cell_type": "code",
   "execution_count": 12,
   "metadata": {},
   "outputs": [],
   "source": [
    "from sklearn.tree import DecisionTreeRegressor\n",
    "dtr = DecisionTreeRegressor(random_state=21)\n",
    "model = dtr.fit(xtrain,ytrain)\n",
    "pred_tr = model.predict(xtrain)\n",
    "pred_ts = model.predict(xtest)\n",
    "\n",
    "from sklearn.metrics import mean_absolute_error\n",
    "ts_err = mean_absolute_error(ytest,pred_ts)\n",
    "tr_err = mean_absolute_error(ytrain,pred_tr)"
   ]
  },
  {
   "cell_type": "markdown",
   "metadata": {},
   "source": [
    "# Plot the tree"
   ]
  },
  {
   "cell_type": "code",
   "execution_count": null,
   "metadata": {},
   "outputs": [],
   "source": [
    "from sklearn.tree import export_graphviz\n",
    "export_graphviz(dtr,out_file=\"D:dataScience/notes/dtr.out\")\n",
    "#a notes file will be created in the given location open the file and copy the content from the file paste it in the link below and see the grah\n",
    "#http://webgraphviz.com/"
   ]
  },
  {
   "cell_type": "code",
   "execution_count": 14,
   "metadata": {},
   "outputs": [
    {
     "data": {
      "text/plain": [
       "0.0"
      ]
     },
     "execution_count": 14,
     "metadata": {},
     "output_type": "execute_result"
    }
   ],
   "source": [
    "tr_err"
   ]
  },
  {
   "cell_type": "code",
   "execution_count": 15,
   "metadata": {},
   "outputs": [
    {
     "data": {
      "text/plain": [
       "6.647368421052631"
      ]
     },
     "execution_count": 15,
     "metadata": {},
     "output_type": "execute_result"
    }
   ],
   "source": [
    "ts_err"
   ]
  },
  {
   "cell_type": "raw",
   "metadata": {},
   "source": [
    "as we can see we get extremely low training error using decision tree but high testing error i.e the model overfits"
   ]
  },
  {
   "cell_type": "raw",
   "metadata": {},
   "source": [
    "we can avoid this by pruning "
   ]
  },
  {
   "cell_type": "code",
   "execution_count": null,
   "metadata": {},
   "outputs": [],
   "source": []
  },
  {
   "cell_type": "markdown",
   "metadata": {},
   "source": [
    "# Pruning Tree"
   ]
  },
  {
   "cell_type": "code",
   "execution_count": 16,
   "metadata": {},
   "outputs": [
    {
     "name": "stdout",
     "output_type": "stream",
     "text": [
      "2 3.687 3.844\n",
      "3 2.74 4.999\n",
      "4 1.835 4.645\n",
      "5 1.244 4.919\n",
      "6 0.756 4.754\n",
      "7 0.505 4.913\n",
      "8 0.213 5.881\n",
      "9 0.048 5.972\n"
     ]
    }
   ],
   "source": [
    "for i in range(2,10,1):\n",
    "    from sklearn.tree import DecisionTreeRegressor\n",
    "    dtr = DecisionTreeRegressor(random_state=21,max_depth=i)\n",
    "    model = dtr.fit(xtrain,ytrain)\n",
    "    pred_tr = model.predict(xtrain)\n",
    "    pred_ts = model.predict(xtest)\n",
    "\n",
    "    from sklearn.metrics import mean_absolute_error\n",
    "    ts_err = mean_absolute_error(ytest,pred_ts)\n",
    "    ts_err = round(ts_err,3)\n",
    "    tr_err = mean_absolute_error(ytrain,pred_tr)\n",
    "    tr_err = round(tr_err,3)\n",
    "    print(i,tr_err,ts_err)"
   ]
  },
  {
   "cell_type": "code",
   "execution_count": 17,
   "metadata": {},
   "outputs": [
    {
     "name": "stdout",
     "output_type": "stream",
     "text": [
      "2 0.929 6.067\n",
      "3 1.99 5.421\n",
      "4 2.239 5.072\n",
      "5 2.517 5.044\n",
      "6 2.633 4.34\n",
      "7 2.656 4.352\n",
      "8 2.718 4.385\n",
      "9 3.638 3.635\n"
     ]
    }
   ],
   "source": [
    "for i in range(2,10,1):\n",
    "    from sklearn.tree import DecisionTreeRegressor\n",
    "    dtr = DecisionTreeRegressor(random_state=21,min_samples_leaf=i)\n",
    "    model = dtr.fit(xtrain,ytrain)\n",
    "    pred_tr = model.predict(xtrain)\n",
    "    pred_ts = model.predict(xtest)\n",
    "\n",
    "    from sklearn.metrics import mean_absolute_error\n",
    "    ts_err = mean_absolute_error(ytest,pred_ts)\n",
    "    ts_err = round(ts_err,3)\n",
    "    tr_err = mean_absolute_error(ytrain,pred_tr)\n",
    "    tr_err = round(tr_err,3)\n",
    "    print(i,tr_err,ts_err)"
   ]
  },
  {
   "cell_type": "markdown",
   "metadata": {},
   "source": [
    "# we can also use GridSearch CV to get the best values for pruning"
   ]
  },
  {
   "cell_type": "code",
   "execution_count": 18,
   "metadata": {},
   "outputs": [
    {
     "data": {
      "text/plain": [
       "{'min_samples_split': 17}"
      ]
     },
     "execution_count": 18,
     "metadata": {},
     "output_type": "execute_result"
    }
   ],
   "source": [
    "from sklearn.model_selection import GridSearchCV\n",
    "tp = {\"min_samples_split\":range(2,20,1)}\n",
    "dtr = DecisionTreeRegressor(random_state=21)\n",
    "\n",
    "cv = GridSearchCV(dtr,tp,scoring=\"neg_mean_absolute_error\",cv=4)\n",
    "cvmodel = cv.fit(Xnew,Y)\n",
    "cvmodel.best_params_"
   ]
  },
  {
   "cell_type": "code",
   "execution_count": 19,
   "metadata": {},
   "outputs": [],
   "source": [
    "dtr = DecisionTreeRegressor(random_state=21,min_samples_split=17)\n",
    "model = dtr.fit(xtrain,ytrain)"
   ]
  },
  {
   "cell_type": "code",
   "execution_count": 22,
   "metadata": {},
   "outputs": [],
   "source": [
    " ytest[\"predicted\"] = model.predict(xtest)"
   ]
  },
  {
   "cell_type": "code",
   "execution_count": 23,
   "metadata": {},
   "outputs": [
    {
     "data": {
      "text/html": [
       "<div>\n",
       "<style scoped>\n",
       "    .dataframe tbody tr th:only-of-type {\n",
       "        vertical-align: middle;\n",
       "    }\n",
       "\n",
       "    .dataframe tbody tr th {\n",
       "        vertical-align: top;\n",
       "    }\n",
       "\n",
       "    .dataframe thead th {\n",
       "        text-align: right;\n",
       "    }\n",
       "</style>\n",
       "<table border=\"1\" class=\"dataframe\">\n",
       "  <thead>\n",
       "    <tr style=\"text-align: right;\">\n",
       "      <th></th>\n",
       "      <th>Price</th>\n",
       "      <th>predicted</th>\n",
       "    </tr>\n",
       "  </thead>\n",
       "  <tbody>\n",
       "    <tr>\n",
       "      <th>23</th>\n",
       "      <td>11.3</td>\n",
       "      <td>11.320000</td>\n",
       "    </tr>\n",
       "    <tr>\n",
       "      <th>86</th>\n",
       "      <td>22.7</td>\n",
       "      <td>20.787500</td>\n",
       "    </tr>\n",
       "    <tr>\n",
       "      <th>91</th>\n",
       "      <td>22.7</td>\n",
       "      <td>15.787500</td>\n",
       "    </tr>\n",
       "    <tr>\n",
       "      <th>21</th>\n",
       "      <td>29.5</td>\n",
       "      <td>34.300000</td>\n",
       "    </tr>\n",
       "    <tr>\n",
       "      <th>17</th>\n",
       "      <td>18.8</td>\n",
       "      <td>34.300000</td>\n",
       "    </tr>\n",
       "    <tr>\n",
       "      <th>82</th>\n",
       "      <td>8.6</td>\n",
       "      <td>8.371429</td>\n",
       "    </tr>\n",
       "    <tr>\n",
       "      <th>34</th>\n",
       "      <td>14.0</td>\n",
       "      <td>11.320000</td>\n",
       "    </tr>\n",
       "    <tr>\n",
       "      <th>27</th>\n",
       "      <td>25.8</td>\n",
       "      <td>31.575000</td>\n",
       "    </tr>\n",
       "    <tr>\n",
       "      <th>10</th>\n",
       "      <td>40.1</td>\n",
       "      <td>31.575000</td>\n",
       "    </tr>\n",
       "    <tr>\n",
       "      <th>40</th>\n",
       "      <td>19.8</td>\n",
       "      <td>16.512500</td>\n",
       "    </tr>\n",
       "    <tr>\n",
       "      <th>13</th>\n",
       "      <td>15.1</td>\n",
       "      <td>16.512500</td>\n",
       "    </tr>\n",
       "    <tr>\n",
       "      <th>3</th>\n",
       "      <td>37.7</td>\n",
       "      <td>31.575000</td>\n",
       "    </tr>\n",
       "    <tr>\n",
       "      <th>55</th>\n",
       "      <td>19.1</td>\n",
       "      <td>20.787500</td>\n",
       "    </tr>\n",
       "    <tr>\n",
       "      <th>1</th>\n",
       "      <td>33.9</td>\n",
       "      <td>31.575000</td>\n",
       "    </tr>\n",
       "    <tr>\n",
       "      <th>22</th>\n",
       "      <td>9.2</td>\n",
       "      <td>11.320000</td>\n",
       "    </tr>\n",
       "    <tr>\n",
       "      <th>84</th>\n",
       "      <td>18.4</td>\n",
       "      <td>16.512500</td>\n",
       "    </tr>\n",
       "    <tr>\n",
       "      <th>19</th>\n",
       "      <td>18.4</td>\n",
       "      <td>34.300000</td>\n",
       "    </tr>\n",
       "    <tr>\n",
       "      <th>36</th>\n",
       "      <td>20.2</td>\n",
       "      <td>16.512500</td>\n",
       "    </tr>\n",
       "    <tr>\n",
       "      <th>83</th>\n",
       "      <td>9.8</td>\n",
       "      <td>8.371429</td>\n",
       "    </tr>\n",
       "  </tbody>\n",
       "</table>\n",
       "</div>"
      ],
      "text/plain": [
       "    Price  predicted\n",
       "23   11.3  11.320000\n",
       "86   22.7  20.787500\n",
       "91   22.7  15.787500\n",
       "21   29.5  34.300000\n",
       "17   18.8  34.300000\n",
       "82    8.6   8.371429\n",
       "34   14.0  11.320000\n",
       "27   25.8  31.575000\n",
       "10   40.1  31.575000\n",
       "40   19.8  16.512500\n",
       "13   15.1  16.512500\n",
       "3    37.7  31.575000\n",
       "55   19.1  20.787500\n",
       "1    33.9  31.575000\n",
       "22    9.2  11.320000\n",
       "84   18.4  16.512500\n",
       "19   18.4  34.300000\n",
       "36   20.2  16.512500\n",
       "83    9.8   8.371429"
      ]
     },
     "execution_count": 23,
     "metadata": {},
     "output_type": "execute_result"
    }
   ],
   "source": [
    "ytest"
   ]
  },
  {
   "cell_type": "code",
   "execution_count": null,
   "metadata": {},
   "outputs": [],
   "source": []
  }
 ],
 "metadata": {
  "kernelspec": {
   "display_name": "Python 3",
   "language": "python",
   "name": "python3"
  },
  "language_info": {
   "codemirror_mode": {
    "name": "ipython",
    "version": 3
   },
   "file_extension": ".py",
   "mimetype": "text/x-python",
   "name": "python",
   "nbconvert_exporter": "python",
   "pygments_lexer": "ipython3",
   "version": "3.8.3"
  }
 },
 "nbformat": 4,
 "nbformat_minor": 4
}
